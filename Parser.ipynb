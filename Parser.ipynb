{
 "cells": [
  {
   "cell_type": "code",
   "execution_count": null,
   "id": "41b59dbb",
   "metadata": {},
   "outputs": [],
   "source": [
    "%pip install fastapi\n",
    "%pip install requests\n",
    "%pip install pdfminer.six\n",
    "%pip install uvicorn\n",
    "%pip install python-multipart"
   ]
  },
  {
   "cell_type": "code",
   "execution_count": null,
   "id": "80d3afb9",
   "metadata": {},
   "outputs": [
    {
     "name": "stdout",
     "output_type": "stream",
     "text": [
      "INFO:     127.0.0.1:58546 - \"POST /api/process-pdf HTTP/1.1\" 200 OK\n",
      "INFO:     127.0.0.1:58588 - \"POST /api/process-pdf HTTP/1.1\" 200 OK\n",
      "INFO:     127.0.0.1:58858 - \"POST /api/process-pdf HTTP/1.1\" 200 OK\n",
      "INFO:     127.0.0.1:58959 - \"POST /api/process-pdf HTTP/1.1\" 200 OK\n",
      "INFO:     127.0.0.1:59104 - \"POST /api/process-pdf HTTP/1.1\" 200 OK\n",
      "INFO:     127.0.0.1:59131 - \"POST /api/process-pdf HTTP/1.1\" 200 OK\n",
      "INFO:     127.0.0.1:59323 - \"POST /api/process-pdf HTTP/1.1\" 200 OK\n"
     ]
    },
    {
     "name": "stderr",
     "output_type": "stream",
     "text": [
      "d:\\code\\Next\\ai_resume_builder\\.venv\\Lib\\site-packages\\pdfminer\\utils.py:332: RuntimeWarning: coroutine 'Server.serve' was never awaited\n",
      "  min(left1, left2, right1, right2),\n",
      "RuntimeWarning: Enable tracemalloc to get the object allocation traceback\n"
     ]
    },
    {
     "name": "stdout",
     "output_type": "stream",
     "text": [
      "INFO:     127.0.0.1:59660 - \"POST /api/process-pdf HTTP/1.1\" 200 OK\n",
      "INFO:     127.0.0.1:59687 - \"POST /api/process-pdf HTTP/1.1\" 200 OK\n",
      "INFO:     127.0.0.1:59827 - \"POST /api/process-pdf HTTP/1.1\" 200 OK\n",
      "INFO:     127.0.0.1:59838 - \"POST /api/process-pdf HTTP/1.1\" 200 OK\n",
      "INFO:     127.0.0.1:60554 - \"POST /api/process-pdf HTTP/1.1\" 200 OK\n",
      "INFO:     127.0.0.1:60590 - \"POST /api/process-pdf HTTP/1.1\" 200 OK\n",
      "INFO:     127.0.0.1:60725 - \"POST /api/process-pdf HTTP/1.1\" 200 OK\n",
      "INFO:     127.0.0.1:60797 - \"POST /api/process-pdf HTTP/1.1\" 200 OK\n",
      "INFO:     127.0.0.1:60821 - \"POST /api/process-pdf HTTP/1.1\" 200 OK\n",
      "INFO:     127.0.0.1:60855 - \"POST /api/process-pdf HTTP/1.1\" 200 OK\n",
      "INFO:     127.0.0.1:60875 - \"POST /api/process-pdf HTTP/1.1\" 200 OK\n",
      "INFO:     127.0.0.1:60886 - \"POST /api/process-pdf HTTP/1.1\" 200 OK\n",
      "INFO:     127.0.0.1:60904 - \"POST /api/process-pdf HTTP/1.1\" 200 OK\n",
      "INFO:     127.0.0.1:60931 - \"POST /api/process-pdf HTTP/1.1\" 200 OK\n",
      "INFO:     127.0.0.1:60950 - \"POST /api/process-pdf HTTP/1.1\" 200 OK\n",
      "INFO:     127.0.0.1:60965 - \"POST /api/process-pdf HTTP/1.1\" 200 OK\n",
      "INFO:     127.0.0.1:61044 - \"POST /api/process-pdf HTTP/1.1\" 200 OK\n",
      "INFO:     127.0.0.1:61253 - \"POST /api/process-pdf HTTP/1.1\" 200 OK\n"
     ]
    }
   ],
   "source": [
    "# main.py\n",
    "from fastapi import FastAPI, UploadFile, File, HTTPException\n",
    "from fastapi.middleware.cors import CORSMiddleware\n",
    "from pdfminer.high_level import extract_text\n",
    "import tempfile, os, uvicorn,nest_asyncio\n",
    "\n",
    "app = FastAPI()\n",
    "\n",
    "# Enable CORS for local dev (adjust in production)\n",
    "app.add_middleware(\n",
    "    CORSMiddleware,\n",
    "    allow_origins=[\"http://localhost:3000\"],  # Or use [\"*\"] for full open CORS\n",
    "    allow_credentials=True,\n",
    "    allow_methods=[\"*\"],\n",
    "    allow_headers=[\"*\"],\n",
    ")\n",
    "\n",
    "@app.post(\"/api/process-pdf\")\n",
    "async def process_pdf(file: UploadFile = File(...)):\n",
    "    if file.content_type != \"application/pdf\":\n",
    "        raise HTTPException(status_code=400, detail=\"Only PDF files are allowed\")\n",
    "\n",
    "    # Save the uploaded file to a temp file\n",
    "    with tempfile.NamedTemporaryFile(delete=False, suffix=\".pdf\") as tmp:\n",
    "        contents = await file.read()\n",
    "        tmp.write(contents)\n",
    "        tmp_path = tmp.name\n",
    "\n",
    "    try:\n",
    "        text = extract_text(tmp_path)\n",
    "    except Exception as e:\n",
    "        raise HTTPException(status_code=500, detail=f\"PDF extraction failed: {str(e)}\")\n",
    "    finally:\n",
    "        os.remove(tmp_path)\n",
    "\n",
    "    return {\"text\": text}\n",
    "\n",
    "# Only run server if this is the main file\n",
    "if __name__ == \"__main__\":\n",
    "    nest_asyncio.apply()\n",
    "    uvicorn.run(app, host=\"localhost\", port=8000)\n"
   ]
  }
 ],
 "metadata": {
  "kernelspec": {
   "display_name": ".venv",
   "language": "python",
   "name": "python3"
  },
  "language_info": {
   "codemirror_mode": {
    "name": "ipython",
    "version": 3
   },
   "file_extension": ".py",
   "mimetype": "text/x-python",
   "name": "python",
   "nbconvert_exporter": "python",
   "pygments_lexer": "ipython3",
   "version": "3.11.9"
  }
 },
 "nbformat": 4,
 "nbformat_minor": 5
}
